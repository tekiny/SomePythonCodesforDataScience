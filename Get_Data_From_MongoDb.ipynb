{
 "cells": [
  {
   "cell_type": "code",
   "execution_count": null,
   "metadata": {},
   "outputs": [],
   "source": [
    "import pandas as pd\n",
    "import numpy as np\n",
    "from pymongo import MongoClient\n",
    "import datetime\n",
    "client = MongoClient('mongodb://localhost:27017/')\n",
    "db=client['mydatabase']\n",
    "\n",
    "\n",
    "mymsgdata=pd.DataFrame(list(db.mydatabase.find({ \"input_flag\":{ \"$in\": [ 1, 2 ] },\"topicName\":\"CCCCCCC\",\n",
    "                        \"crDate\":{\"$gt\": datetime.datetime(2019, 2, 6, 0, 0, 0)},\"crDate\":{\"$lt\": datetime.datetime.now()} },\n",
    "                        {\"_id\":False,\"message_ID\": 1, \"text\":1,\"input_flag\":1} )))\n",
    "mymsgdata.set_index('message_ID',inplace=True)  # Wanted to use a unique column as an pd dataframe index\n"
   ]
  },
  {
   "cell_type": "code",
   "execution_count": null,
   "metadata": {},
   "outputs": [],
   "source": []
  }
 ],
 "metadata": {
  "kernelspec": {
   "display_name": "Python 3",
   "language": "python",
   "name": "python3"
  },
  "language_info": {
   "codemirror_mode": {
    "name": "ipython",
    "version": 3
   },
   "file_extension": ".py",
   "mimetype": "text/x-python",
   "name": "python",
   "nbconvert_exporter": "python",
   "pygments_lexer": "ipython3",
   "version": "3.6.7"
  }
 },
 "nbformat": 4,
 "nbformat_minor": 2
}
